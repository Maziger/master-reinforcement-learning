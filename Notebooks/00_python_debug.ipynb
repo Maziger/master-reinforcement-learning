{
  "cells": [
    {
      "cell_type": "markdown",
      "metadata": {
        "colab_type": "text",
        "id": "view-in-github"
      },
      "source": [
        "<a href=\"https://colab.research.google.com/github/Maziger/master-reinforcement-learning/blob/main/Notebooks/00_python_debug.ipynb\" target=\"_parent\"><img src=\"https://colab.research.google.com/assets/colab-badge.svg\" alt=\"Open In Colab\"/></a>"
      ]
    },
    {
      "cell_type": "markdown",
      "metadata": {
        "id": "YO4fqV6beNbe"
      },
      "source": [
        "# Debugging in Google Colab"
      ]
    },
    {
      "cell_type": "markdown",
      "metadata": {
        "id": "3Vd2trJqeNbi"
      },
      "source": [
        "Code development and data analysis always require a bit of trial and error. We will briefly cover some options for controlling Python's exception reporting, followed by exploring tools for debugging errors in code.\n",
        "\n",
        "Google Colab supports various debugging strategies similar to local Python environments. Here are the main methods:\n",
        "\n",
        "## Simple debugging\n",
        "\n",
        "* Use `print()` to inspect variable values and flow."
      ]
    },
    {
      "cell_type": "code",
      "execution_count": null,
      "metadata": {
        "id": "N-anaaW-jyrf"
      },
      "outputs": [],
      "source": [
        "x = 10\n",
        "print(\"x =\", x)"
      ]
    },
    {
      "cell_type": "markdown",
      "metadata": {
        "id": "CCw4YIH4j5jU"
      },
      "source": [
        "* Select some lines and run these using Cmd+Shift+Enter.\n",
        "* Use `assert` Statements for checking expected values during development."
      ]
    },
    {
      "cell_type": "code",
      "execution_count": null,
      "metadata": {
        "id": "GmH82w74j8rH"
      },
      "outputs": [],
      "source": [
        "assert x > 0, \"x should be positive\""
      ]
    },
    {
      "cell_type": "markdown",
      "metadata": {
        "id": "6NjTCC3deNbj"
      },
      "source": [
        "## Exceptions and Tracebacks\n",
        "\n",
        "Most of the time when a Python script fails, it will raise an exception.\n",
        "When the interpreter hits one of these exceptions, information about the cause of the error can be found in the traceback.\n",
        "\n",
        "* Click on the traceback lines to jump directly to the source.\n",
        "* You may use Gemini by clicking *Explain error*.\n",
        "\n",
        "You may use the `%xmode` magic function to control the amount of information printed. Consider the following code:"
      ]
    },
    {
      "cell_type": "code",
      "execution_count": null,
      "metadata": {
        "id": "pB97n7kOeNbk",
        "jupyter": {
          "outputs_hidden": false
        }
      },
      "outputs": [],
      "source": [
        "def func1(a, b):\n",
        "    return a / b\n",
        "\n",
        "def func2(x):\n",
        "    a = x\n",
        "    b = x - 1\n",
        "    return func1(a, b)"
      ]
    },
    {
      "cell_type": "code",
      "execution_count": null,
      "metadata": {
        "id": "XyP9BQEreNbl",
        "jupyter": {
          "outputs_hidden": false
        }
      },
      "outputs": [],
      "source": [
        "func2(1)"
      ]
    },
    {
      "cell_type": "markdown",
      "metadata": {
        "id": "u6LVda_heNbn"
      },
      "source": [
        "Calling `func2` results in an error, and reading the printed trace lets us see exactly what happened. In the default mode, this trace includes several lines showing the context of each step that led to the error. Using the `%xmode` magic function (short for *exception mode*), we can change what information is printed. The `Verbose` mode adds some extra information:"
      ]
    },
    {
      "cell_type": "code",
      "execution_count": null,
      "metadata": {
        "id": "THU6D8oaeNbq",
        "jupyter": {
          "outputs_hidden": false
        }
      },
      "outputs": [],
      "source": [
        "%xmode Verbose"
      ]
    },
    {
      "cell_type": "code",
      "execution_count": null,
      "metadata": {
        "id": "8LB1gkQbeNbq",
        "jupyter": {
          "outputs_hidden": false
        }
      },
      "outputs": [],
      "source": [
        "func2(1)"
      ]
    },
    {
      "cell_type": "markdown",
      "metadata": {
        "id": "5JZaA0R7eNbr"
      },
      "source": [
        "This extra information can help you narrow in on why the exception is being raised.\n",
        "So why not use the `Verbose` mode all the time?\n",
        "As code gets complicated, this kind of traceback can get extremely long.\n",
        "Depending on the context, sometimes the brevity of `Context` mode is easier to work with."
      ]
    },
    {
      "cell_type": "markdown",
      "metadata": {
        "id": "vaeeILY6eNbr"
      },
      "source": [
        "## Debugging: When Reading Tracebacks Is Not Enough\n",
        "\n",
        "For interactive debugging use `pdb`, the Python debugger which lets the user step through the code line by line.\n",
        "\n",
        "Perhaps the most convenient interface to debugging is the `%debug` magic command. If you call it after hitting an exception, it will automatically open an interactive debugging prompt at the point of the exception.\n",
        "\n",
        "Let's look at the most recent exception, then do some basic tasks. We'll print the values of `a` and `b`, then type `quit` to quit the debugging session:"
      ]
    },
    {
      "cell_type": "code",
      "execution_count": null,
      "metadata": {
        "id": "aI1EgSQTeNbr",
        "jupyter": {
          "outputs_hidden": false
        }
      },
      "outputs": [],
      "source": [
        "%debug"
      ]
    },
    {
      "cell_type": "markdown",
      "metadata": {
        "id": "afRfW1F0eNbs"
      },
      "source": [
        "The interactive debugger allows much more than this, though—we can even step up and down through the stack and explore the values of variables there:"
      ]
    },
    {
      "cell_type": "code",
      "execution_count": null,
      "metadata": {
        "id": "4W-W5FNFeNbs",
        "jupyter": {
          "outputs_hidden": false
        }
      },
      "outputs": [],
      "source": [
        "%debug"
      ]
    },
    {
      "cell_type": "markdown",
      "metadata": {
        "id": "NcemC2bceNbs"
      },
      "source": [
        "This allows us to quickly find out not only what caused the error, but what function calls led up to the error.\n",
        "\n",
        "If you'd like the debugger to launch automatically whenever an exception is raised, you can use the `%pdb` magic function to turn on this automatic behavior:"
      ]
    },
    {
      "cell_type": "code",
      "execution_count": null,
      "metadata": {
        "id": "TtL3i1-ZeNbt",
        "jupyter": {
          "outputs_hidden": false
        }
      },
      "outputs": [],
      "source": [
        "%pdb on\n",
        "func2(1)"
      ]
    },
    {
      "cell_type": "markdown",
      "metadata": {
        "id": "BTRG-U98eNbt"
      },
      "source": [
        "### Partial list of debugging commands\n",
        "\n",
        "There are many more available commands for interactive debugging than I've shown here. The following table contains a description of some of the more common and useful ones:\n",
        "\n",
        "| Command       |  Description                                                |\n",
        "|---------------|-------------------------------------------------------------|\n",
        "| `l(ist)`      | Show the current location in the file                       |\n",
        "| `h(elp)`      | Show a list of commands, or find help on a specific command |\n",
        "| `q(uit)`      | Quit the debugger and the program                           |\n",
        "| `c(ontinue)`  | Quit the debugger, continue in the program                  |\n",
        "| `n(ext)`      | Go to the next step of the program                          |\n",
        "| `<enter>`     | Repeat the previous command                                 |\n",
        "| `p(rint)`     | Print variables                                             |\n",
        "| `s(tep)`      | Step into a subroutine                                      |\n",
        "| `r(eturn)`    | Return out of a subroutine                                  |\n",
        "\n",
        "For more information, use the `help` command in the debugger, or take a look at `ipdb`'s [online documentation](https://github.com/gotcha/ipdb)."
      ]
    }
  ],
  "metadata": {
    "anaconda-cloud": {},
    "colab": {
      "include_colab_link": true,
      "provenance": [],
      "toc_visible": true
    },
    "jupytext": {
      "formats": "ipynb,md"
    },
    "kernelspec": {
      "display_name": "Python 3 (ipykernel)",
      "language": "python",
      "name": "python3"
    },
    "language_info": {
      "codemirror_mode": {
        "name": "ipython",
        "version": 3
      },
      "file_extension": ".py",
      "mimetype": "text/x-python",
      "name": "python",
      "nbconvert_exporter": "python",
      "pygments_lexer": "ipython3",
      "version": "3.9.2"
    }
  },
  "nbformat": 4,
  "nbformat_minor": 0
}
